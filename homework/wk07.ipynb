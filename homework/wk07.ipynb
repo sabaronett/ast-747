{
  "nbformat": 4,
  "nbformat_minor": 5,
  "metadata": {
    "interpreter": {
      "hash": "64207f2bff3d87667c37533ce80ad965e00dc98d977e991ef4b71373a05ea95c"
    },
    "kernelspec": {
      "display_name": "Python 3",
      "language": "python",
      "name": "python3"
    },
    "language_info": {
      "codemirror_mode": {
        "name": "ipython",
        "version": 3
      },
      "file_extension": ".py",
      "mimetype": "text/x-python",
      "name": "python",
      "nbconvert_exporter": "python",
      "pygments_lexer": "ipython3",
      "version": "3.9.6"
    },
    "toc-autonumbering": false,
    "toc-showcode": false,
    "toc-showmarkdowntxt": false,
    "toc-showtags": false,
    "colab": {
      "name": "wk07.ipynb",
      "provenance": [],
      "collapsed_sections": [],
      "include_colab_link": true
    }
  },
  "cells": [
    {
      "cell_type": "markdown",
      "metadata": {
        "id": "view-in-github",
        "colab_type": "text"
      },
      "source": [
        "<a href=\"https://colab.research.google.com/github/sabaronett/ast-747/blob/main/homework/wk07.ipynb\" target=\"_parent\"><img src=\"https://colab.research.google.com/assets/colab-badge.svg\" alt=\"Open In Colab\"/></a>"
      ]
    },
    {
      "cell_type": "markdown",
      "metadata": {
        "tags": [],
        "id": "b2916b11"
      },
      "source": [
        "# Homework Week 7: Chs. 7, 8 Questions\n",
        "Jonathan P. Williams, _Introduction to the Interstellar Medium_"
      ],
      "id": "b2916b11"
    },
    {
      "cell_type": "markdown",
      "metadata": {
        "tags": [],
        "id": "1b2701f9"
      },
      "source": [
        "|Author| Stanley A. Baronett|\n",
        "|--|-------------------------------|\n",
        "|Created | 10/14/2021|"
      ],
      "id": "1b2701f9"
    },
    {
      "cell_type": "markdown",
      "metadata": {
        "id": "febab386"
      },
      "source": [
        "## Python Imports & Constants"
      ],
      "id": "febab386"
    },
    {
      "cell_type": "code",
      "metadata": {
        "tags": [],
        "id": "aa328c86"
      },
      "source": [
        "import math\n",
        "import matplotlib.pyplot as plt\n",
        "import numpy as np\n",
        "\n",
        "# Table A.1. Physical constants\n",
        "c   = 3e8      # [m s⁻¹]\n",
        "h   = 6.63e-34 # [J s]\n",
        "k   = 1.38e-23 # [J K⁻¹]\n",
        "SBc = 5.67e-8  # [W m⁻² K⁻⁴]\n",
        "G   = 6.67e-11 # [m³ kg⁻¹ s⁻²]\n",
        "mH  = 1.67e-27 # [kg]\n",
        "\n",
        "# Table A.2. Astronomical constants\n",
        "pc   = 3.09e16 # [m]\n",
        "au   = 1.50e11 # [m]\n",
        "Msun = 1.99e30 # [kg]\n",
        "Lsun = 3.83e26 # [W]\n",
        "Rsun = 6.96e8  # [m]\n",
        "\n",
        "# Miscellaneous constants and conversions\n",
        "yr = 3.15e7    # [s]\n",
        "Jy = 1e-26     # [W m⁻² Hz⁻¹]\n",
        "me = 9.11e-31  # [kg]\n",
        "e  = 1.60e-19  # [C]\n",
        "e0 = 8.85e-12  # [F m⁻¹]"
      ],
      "id": "aa328c86",
      "execution_count": 2,
      "outputs": []
    },
    {
      "cell_type": "markdown",
      "metadata": {
        "id": "OFh0mETpHC_r"
      },
      "source": [
        "# Ch. 7"
      ],
      "id": "OFh0mETpHC_r"
    },
    {
      "cell_type": "markdown",
      "metadata": {
        "tags": [],
        "id": "ba98011a"
      },
      "source": [
        "## 2.\n",
        "\n",
        "Gas thermal pressure is\n",
        "\\begin{equation}\n",
        "P = nkT.\n",
        "\\tag{5.21}\n",
        "\\end{equation}\n",
        "Similar to the cold neutral atomic medium, but with a greater dispersion, a **giant molecular cloud's** (GMC) average $\\textrm{H}_2$ number density is $\\langle n_{\\textrm{H}_2} \\rangle \\sim 10^8\\,\\textrm{m}^{-3}$ (p. 100), with low kinetic temperatures $T \\sim 10\\,\\textrm{K}$ away from dense star-forming regions (p. 101).\n",
        "Thus the average thermal pressure in a GMC is\n",
        "\\begin{equation}\n",
        "\\boxed{\\langle P_\\textrm{GMC} \\rangle= 1.4\\times10^{-14}\\,\\textrm{Pa}}.\n",
        "\\end{equation}\n",
        "With $n_\\textrm{H} \\simeq 10^8,\\,10^6\\,\\textrm{m}^{-3}$ and $T_\\textrm{H} \\simeq 100,\\,8000\\,\\textrm{K}$ for the **cold neutral medium** (CNM) and **warm neutral medium** (WNM), respectively (p. 54), by comparison\n",
        "\\begin{align}\n",
        "\\langle P_\\textrm{CNM} \\rangle &= 1.4\\times10^{-13}\\,\\textrm{Pa},\\\\\n",
        "\\langle P_\\textrm{WNM} \\rangle &= 1.1\\times10^{-13}\\,\\textrm{Pa}.\n",
        "\\end{align}\n",
        "Due to the wide range of molecular levels and their collective ability to radiate away collision energy (p. 101), GMCs are the largest, coldest, densest objects in the ISM (p. 102) and explain the discrepancy in average thermal pressures against the CNM and WNM."
      ],
      "id": "ba98011a"
    },
    {
      "cell_type": "code",
      "metadata": {
        "tags": [],
        "colab": {
          "base_uri": "https://localhost:8080/"
        },
        "id": "27eb530c",
        "outputId": "c68caff3-de1e-4549-9e08-07456807faa6"
      },
      "source": [
        "n_gmc, n_wnm = 1e8, 1e6 # [m⁻³]\n",
        "T_gmc, T_cnm, T_wnm = 10, 100, 8e3 # [K]\n",
        "P_gmc = n_gmc*k*T_gmc # [Pa]\n",
        "P_cnm = n_gmc*k*T_cnm # [Pa]\n",
        "P_wnm = n_wnm*k*T_wnm # [Pa]\n",
        "print('GMC: P = {:.1e} Pa'.format(P_gmc))\n",
        "print('CNM: P = {:.1e} Pa'.format(P_cnm))\n",
        "print('WNM: P = {:.1e} Pa'.format(P_wnm))"
      ],
      "id": "27eb530c",
      "execution_count": null,
      "outputs": [
        {
          "output_type": "stream",
          "name": "stdout",
          "text": [
            "GMC: P = 1.4e-14 Pa\n",
            "CNM: P = 1.4e-13 Pa\n",
            "WNM: P = 1.1e-13 Pa\n"
          ]
        }
      ]
    },
    {
      "cell_type": "markdown",
      "metadata": {
        "id": "1a47393f-78a7-492d-a2d4-c7fcde7c24d5"
      },
      "source": [
        "## 3.\n",
        "\n",
        "The column density of a molecular transition's upper state is\n",
        "\\begin{equation}\n",
        "N_2 = \\frac{1}{\\beta}\\frac{8\\pi k\\nu^2}{A_{21}hc^3}\\int T_\\textrm{B}dv,\n",
        "\\tag{7.13}\n",
        "\\end{equation}\n",
        "where $\\beta = (1-e^{-\\tau_\\nu})/\\tau_\\nu$ is the optical depth correction factor, and $\\int T_\\textrm{B}dv$ is the spectrally integrated brightness temperature.\n",
        "From Table 7.1 (p. 93), $\\nu = 97.981\\,\\textrm{GHz}$, $A_{21} = 1.68\\times10^{-5}$ for the $\\textrm{CS}\\,J=2-1$ transition.\n",
        "Assuming low optical depth ($\\tau_\\nu \\ll 1$, such that $\\beta \\sim 1$), Fig. 7.9's measured integrated intensity of $10\\textrm{ K km s}^{-1}$ corresponds to a column density $N_{J=2}=1.1\\times10^{17}\\,\\textrm{m}^{-2}$.\n",
        "The total column density is\n",
        "\\begin{equation}\n",
        "N_\\textrm{tot} = \\frac{e^{E_i/kT_\\textrm{ex}}}{g_i}N_iQ,\n",
        "\\tag{7.15}\n",
        "\\end{equation}\n",
        "with degeneracy $g_J = 2J+1$, excitation temperature $T_\\textrm{ex}$, and partition function\n",
        "\\begin{equation}\n",
        "Q \\simeq \\frac{kT_\\textrm{ex}}{hB},\n",
        "\\tag{7.16}\n",
        "\\end{equation}\n",
        "where, from Eq. 7.7, $B = E_\\textrm{rot}/hJ(J+1)$ is the rotational constant in Hz.\n",
        "If the embedded stellar cluster warms the gas to $T_\\textrm{ex} = 50\\,\\textrm{K}$, and $E_{J=2-1}/k = 7.1$ (Table 7.1), we find $Q = 42.3$ and can convert to a total column density, $N_\\textrm{tot} = 1.1\\times10^{18}\\,\\textrm{m}^{-2}$.\n",
        "Dividing by the relative CS abundance, $[\\textrm{CS}]/[\\textrm{H}_2] = 10^{-8}$, gives a total molecular column density of $N_{\\textrm{H}_2} = 1.1\\times10^{26}\\,\\textrm{m}^{-2}$.\n",
        "Finally, the total gas mass is\n",
        "\\begin{equation}\n",
        "M = N_{\\textrm{H}_2}\\mu m_{\\textrm{H}_2}\\Omega d^2,\n",
        "\\end{equation}\n",
        "where $\\Omega = \\pi\\theta^2$ is the solid angle over which the column density is calculated; $d=r/\\theta$ respectively is the distance to, and physical and angular radii of the cloud; and $\\mu = 1.35$ accounts for non-hydrogen mass, e.g., helium (p. 97).\n",
        "If we estimate $r \\simeq 0.1\\,\\textrm{pc}$ and $\\theta \\simeq 10''$ from Fig. 7.9, we find a total gas mass of\n",
        "\\begin{equation}\n",
        "\\boxed{M = 7.3\\,M_\\odot}.\n",
        "\\end{equation}\n"
      ],
      "id": "1a47393f-78a7-492d-a2d4-c7fcde7c24d5"
    },
    {
      "cell_type": "code",
      "metadata": {
        "colab": {
          "base_uri": "https://localhost:8080/"
        },
        "id": "Jlmmptltvn-_",
        "outputId": "fe5b19b9-f1dc-4301-abc4-e3842aa975cb"
      },
      "source": [
        "J = 2                 # rotational quantum number\n",
        "ν = 97.981e9          # [Hz]\n",
        "Erot = 7.1*k          # [J]\n",
        "A21 = 1.68e-5         # [s⁻¹]\n",
        "II = 10e3             # integrated intensity [K m s⁻¹]\n",
        "Tex = 50              # [K]\n",
        "CS_H2 = 1e-8          # relative abundance\n",
        "g = 2*J + 1           # statistical weight (degeneracy)\n",
        "τ = 1e-3              # optical depth\n",
        "μ = 1.35              # helium correction factor\n",
        "m_H2 = 2*mH\n",
        "r = 0.1*pc            # clump radius\n",
        "θdeg = 10/3600        # [deg]\n",
        "θrad = np.pi*θdeg/180 # [rad]\n",
        "d = r/θrad            # distance to cloud [m]\n",
        "Ω = np.pi*θrad**2\n",
        "\n",
        "β = (1-np.exp(-τ))/τ # optical depth correction factor\n",
        "N2 = 8*np.pi*k*ν**2*II/(β*A21*h*c**3)\n",
        "B = Erot/h/J/(J+1)   # rotational constant\n",
        "Q = k*Tex/h/B        # partition function\n",
        "Ntot = np.exp(Erot/k/Tex)*N2*Q/g\n",
        "NH2 = Ntot/CS_H2\n",
        "M = NH2*μ*m_H2*Ω*d**2\n",
        "\n",
        "print(f'N_J=2 = {N2:.1e} m⁻²')\n",
        "print(f'    Q = {Q:.1f}')\n",
        "print(f'N_tot = {Ntot:.1e} m⁻²')\n",
        "print(f'N_H_2 = {NH2:.1e} m⁻²')\n",
        "print(f'    M = {M/Msun:.1f} Msun')"
      ],
      "id": "Jlmmptltvn-_",
      "execution_count": 12,
      "outputs": [
        {
          "output_type": "stream",
          "name": "stdout",
          "text": [
            "N_J=2 = 1.1e+17 m⁻²\n",
            "    Q = 42.3\n",
            "N_tot = 1.1e+18 m⁻²\n",
            "N_H_2 = 1.1e+26 m⁻²\n",
            "    M = 7.3 Msun\n"
          ]
        }
      ]
    },
    {
      "cell_type": "markdown",
      "metadata": {
        "id": "uXx5CQNiQHNz"
      },
      "source": [
        "# Ch. 8"
      ],
      "id": "uXx5CQNiQHNz"
    },
    {
      "cell_type": "markdown",
      "metadata": {
        "tags": [],
        "id": "848191c4-3e2d-46f9-ac86-d74f4138a343"
      },
      "source": [
        "## 1.\n",
        "\n",
        "The equations of fluid mechanics include the differential **continuity equation**,\n",
        "\\begin{equation}\n",
        "\\frac{\\partial \\rho}{\\partial t}+\\nabla \\cdot(\\rho \\mathbf{v})=0,\n",
        "\\tag{8.4}\n",
        "\\end{equation}\n",
        "and the **equation of momentum conservation** (Navier-Stokes),\n",
        "\\begin{equation}\n",
        "\\frac{\\partial \\mathbf{v}}{\\partial t}+(\\mathbf{v} \\cdot \\nabla) \\mathbf{v}=-\\frac{\\nabla P}{\\rho} - \\nabla\\phi,\n",
        "\\tag{8.5}\n",
        "\\end{equation}\n",
        "where $\\phi$ is the gravitational potential of the fluid, which depends on the density via Poisson's equation,\n",
        "\\begin{equation}\n",
        "\\nabla^2\\phi = 4\\pi G\\rho.\n",
        "\\tag{8.6}\n",
        "\\end{equation}\n",
        "Labeling the static solution and perturbations with subscripts 0 and 1, respectively, we have\n",
        "\\begin{equation}\n",
        "\\mathbf{v} = \\mathbf{v}_1,\\quad \\rho = \\rho_0 + \\rho_1,\\quad P = P_0 + P_1.\n",
        "\\tag{8.10}\n",
        "\\end{equation}\n",
        "To first order, the perturbations are related via Eqs. 8.4 and 8.5 as\n",
        "\\begin{align}\n",
        "\\frac{\\partial \\rho_1}{\\partial t} + \\rho_0(\\nabla\\cdot\\mathbf{v}_1) &= 0,\\\\\n",
        "\\frac{\\partial \\mathbf{v}_1}{\\partial t} + \\frac{\\nabla P_1}{\\rho_0} + \\nabla\\phi_1 &= 0.\n",
        "\\end{align}\n",
        "The time-derivative of the continuity equation gives\n",
        "\\begin{align}\n",
        "\\frac{\\partial}{\\partial t}\\left[\\frac{\\partial \\rho_1}{\\partial t} + \\rho_0(\\nabla\\cdot\\mathbf{v}_1)\\right]&= 0\\\\\n",
        "\\frac{\\partial^2 \\rho_1}{\\partial t^2} + \\rho_0\\frac{\\partial}{\\partial t}(\\nabla\\cdot\\mathbf{v}_1)&= 0.\n",
        "\\tag{A}\n",
        "\\end{align}\n",
        "The divergence of the equation of momentum conservation gives\n",
        "\\begin{align}\n",
        "\\nabla\\cdot\\left[\\frac{\\partial \\mathbf{v}_1}{\\partial t} + \\frac{\\nabla P_1}{\\rho_0} + \\nabla\\phi_1 \\right]&= 0\\\\\n",
        "\\frac{\\partial}{\\partial t}(\\nabla\\cdot\\mathbf{v}_1) + \\frac{\\nabla^2 P_1}{\\rho_0} + \\nabla^2\\phi_1 &= 0.\n",
        "\\end{align}\n",
        "With an **isothermal equation of state**, $P = \\rho c^2$, multiplying both sides by $\\rho_0$ gives\n",
        "\\begin{equation}\n",
        "\\rho_0\\frac{\\partial}{\\partial t}(\\nabla\\cdot\\mathbf{v}_1) + c^2\\nabla^2\\rho_1 + \\rho_0\\nabla^2\\phi_1 = 0.\n",
        "\\tag{B}\n",
        "\\end{equation}\n",
        "Subtracting Eq. B from A, and substituting Poisson's equation (8.6), we derive Eq. 8.15 describing the growth of small density perturbations in a uniform, self-gravitating fluid:\n",
        "\\begin{equation}\n",
        "\\boxed{\\frac{\\partial^2 \\rho_1}{\\partial t^2}  = c^2\\nabla^2\\rho_1 + 4\\pi G\\rho_0\\rho_1}.\n",
        "\\tag*{$\\blacksquare$}\n",
        "\\end{equation}\n"
      ],
      "id": "848191c4-3e2d-46f9-ac86-d74f4138a343"
    },
    {
      "cell_type": "markdown",
      "metadata": {
        "tags": [],
        "id": "bb53a9ac-f2d2-4af9-878e-9484eacfd1f7"
      },
      "source": [
        "## 2.\n",
        "\n",
        "Consider the gravitational potential energy, $W$, from constructing a sphere with radius $R$ from inside out, bringing from infinity shell by shell, each with mass $dM(r) = \\rho(r)4\\pi r^2dr$:\n",
        "\\begin{align}\n",
        "W &= \\int_0^R \\frac{GM(r)dM(r)}{r} \\\\\n",
        "  &= \\int_0^R GM(r)\\rho(r)4\\pi r\\,dr.\n",
        "\\end{align}\n",
        "For a uniform sphere, i.e., $\\rho = 3M/4\\pi R^3 = \\textrm{const.}$, $M(r) = 4\\pi r^3\\rho/3$, and we find\n",
        "\\begin{align}\n",
        "W &= \\frac{4^2\\pi^2}{3}G\\rho^2 \\int_0^R r^4\\,dr \\\\\n",
        "  &= \\frac{4^2\\pi^2}{3}G \\left(\\frac{3^2M^2}{4^2\\pi^2R^6}\\right) \\frac{R^5}{5} \\\\\n",
        "  &= \\boxed{\\frac{3}{5}\\frac{GM^2}{R}}.\n",
        "\\tag*{$\\blacksquare$}\n",
        "\\end{align}"
      ],
      "id": "bb53a9ac-f2d2-4af9-878e-9484eacfd1f7"
    }
  ]
}