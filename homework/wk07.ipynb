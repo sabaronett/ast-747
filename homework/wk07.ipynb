{
  "nbformat": 4,
  "nbformat_minor": 5,
  "metadata": {
    "interpreter": {
      "hash": "64207f2bff3d87667c37533ce80ad965e00dc98d977e991ef4b71373a05ea95c"
    },
    "kernelspec": {
      "display_name": "Python 3",
      "language": "python",
      "name": "python3"
    },
    "language_info": {
      "codemirror_mode": {
        "name": "ipython",
        "version": 3
      },
      "file_extension": ".py",
      "mimetype": "text/x-python",
      "name": "python",
      "nbconvert_exporter": "python",
      "pygments_lexer": "ipython3",
      "version": "3.9.6"
    },
    "toc-autonumbering": false,
    "toc-showcode": false,
    "toc-showmarkdowntxt": false,
    "toc-showtags": false,
    "colab": {
      "name": "wk07.ipynb",
      "provenance": [],
      "collapsed_sections": [],
      "include_colab_link": true
    }
  },
  "cells": [
    {
      "cell_type": "markdown",
      "metadata": {
        "id": "view-in-github",
        "colab_type": "text"
      },
      "source": [
        "<a href=\"https://colab.research.google.com/github/sabaronett/ast-747/blob/main/homework/wk07.ipynb\" target=\"_parent\"><img src=\"https://colab.research.google.com/assets/colab-badge.svg\" alt=\"Open In Colab\"/></a>"
      ]
    },
    {
      "cell_type": "markdown",
      "metadata": {
        "tags": [],
        "id": "b2916b11"
      },
      "source": [
        "# Homework Week 7: Chs. 7, 8 Questions\n",
        "Jonathan P. Williams, _Introduction to the Interstellar Medium_"
      ],
      "id": "b2916b11"
    },
    {
      "cell_type": "markdown",
      "metadata": {
        "tags": [],
        "id": "1b2701f9"
      },
      "source": [
        "|Author| Stanley A. Baronett|\n",
        "|--|-------------------------------|\n",
        "|Created | 10/14/2021|"
      ],
      "id": "1b2701f9"
    },
    {
      "cell_type": "markdown",
      "metadata": {
        "id": "febab386"
      },
      "source": [
        "## Python Imports & Constants"
      ],
      "id": "febab386"
    },
    {
      "cell_type": "code",
      "metadata": {
        "tags": [],
        "id": "aa328c86"
      },
      "source": [
        "import math\n",
        "import matplotlib.pyplot as plt\n",
        "import numpy as np\n",
        "\n",
        "# Table A.1. Physical constants\n",
        "c   = 3e8      # [m s⁻¹]\n",
        "h   = 6.63e-34 # [J s]\n",
        "k   = 1.38e-23 # [J K⁻¹]\n",
        "SBc = 5.67e-8  # [W m⁻² K⁻⁴]\n",
        "G   = 6.67e-11 # [m³ kg⁻¹ s⁻²]\n",
        "mH  = 1.67e-27 # [kg]\n",
        "\n",
        "# Table A.2. Astronomical constants\n",
        "pc   = 3.09e16 # [m]\n",
        "au   = 1.50e11 # [m]\n",
        "Msun = 1.99e30 # [kg]\n",
        "Lsun = 3.83e26 # [W]\n",
        "Rsun = 6.96e8  # [m]\n",
        "\n",
        "# Miscellaneous constants and conversions\n",
        "yr = 3.15e7    # [s]\n",
        "Jy = 1e-26     # [W m⁻² Hz⁻¹]\n",
        "me = 9.11e-31  # [kg]\n",
        "e  = 1.60e-19  # [C]\n",
        "e0 = 8.85e-12  # [F m⁻¹]"
      ],
      "id": "aa328c86",
      "execution_count": 1,
      "outputs": []
    },
    {
      "cell_type": "markdown",
      "metadata": {
        "id": "OFh0mETpHC_r"
      },
      "source": [
        "# Ch. 7"
      ],
      "id": "OFh0mETpHC_r"
    },
    {
      "cell_type": "markdown",
      "metadata": {
        "tags": [],
        "id": "ba98011a"
      },
      "source": [
        "## 2.\n",
        "\n",
        "Gas thermal pressure is\n",
        "\\begin{equation}\n",
        "P = nkT.\n",
        "\\tag{5.21}\n",
        "\\end{equation}\n",
        "Similar to the cold neutral atomic medium, but with a greater dispersion, a **giant molecular cloud's** (GMC) average $\\textrm{H}_2$ number density is $\\langle n_{\\textrm{H}_2} \\rangle \\sim 10^8\\,\\textrm{m}^{-3}$ (p. 100), with low kinetic temperatures $T \\sim 10\\,\\textrm{K}$ away from dense star-forming regions (p. 101).\n",
        "Thus the average thermal pressure in a GMC is\n",
        "\\begin{equation}\n",
        "\\boxed{\\langle P_\\textrm{GMC} \\rangle= 1.4\\times10^{-14}\\,\\textrm{Pa}}.\n",
        "\\end{equation}\n",
        "With $n_\\textrm{H} \\simeq 10^8,\\,10^6\\,\\textrm{m}^{-3}$ and $T_\\textrm{H} \\simeq 100,\\,8000\\,\\textrm{K}$ for the **cold neutral medium** (CNM) and **warm neutral medium** (WNM), respectively (p. 54), by comparison\n",
        "\\begin{align}\n",
        "\\langle P_\\textrm{CNM} \\rangle &= 1.4\\times10^{-13}\\,\\textrm{Pa},\\\\\n",
        "\\langle P_\\textrm{WNM} \\rangle &= 1.1\\times10^{-13}\\,\\textrm{Pa}.\n",
        "\\end{align}\n",
        "Due to the wide range of molecular levels and their collective ability to radiate away collision energy (p. 101), GMCs are the largest, coldest, densest objects in the ISM (p. 102) and explain the discrepancy in average thermal pressures against the CNM and WNM."
      ],
      "id": "ba98011a"
    },
    {
      "cell_type": "code",
      "metadata": {
        "tags": [],
        "colab": {
          "base_uri": "https://localhost:8080/"
        },
        "id": "27eb530c",
        "outputId": "c68caff3-de1e-4549-9e08-07456807faa6"
      },
      "source": [
        "n_gmc, n_wnm = 1e8, 1e6 # [m⁻³]\n",
        "T_gmc, T_cnm, T_wnm = 10, 100, 8e3 # [K]\n",
        "P_gmc = n_gmc*k*T_gmc # [Pa]\n",
        "P_cnm = n_gmc*k*T_cnm # [Pa]\n",
        "P_wnm = n_wnm*k*T_wnm # [Pa]\n",
        "print('GMC: P = {:.1e} Pa'.format(P_gmc))\n",
        "print('CNM: P = {:.1e} Pa'.format(P_cnm))\n",
        "print('WNM: P = {:.1e} Pa'.format(P_wnm))"
      ],
      "id": "27eb530c",
      "execution_count": 23,
      "outputs": [
        {
          "output_type": "stream",
          "name": "stdout",
          "text": [
            "GMC: P = 1.4e-14 Pa\n",
            "CNM: P = 1.4e-13 Pa\n",
            "WNM: P = 1.1e-13 Pa\n"
          ]
        }
      ]
    },
    {
      "cell_type": "markdown",
      "metadata": {
        "id": "1a47393f-78a7-492d-a2d4-c7fcde7c24d5"
      },
      "source": [
        "## 3.\n",
        "\n",
        "ASDF"
      ],
      "id": "1a47393f-78a7-492d-a2d4-c7fcde7c24d5"
    },
    {
      "cell_type": "code",
      "metadata": {
        "colab": {
          "base_uri": "https://localhost:8080/"
        },
        "id": "Jlmmptltvn-_",
        "outputId": "82dcdecb-5257-4079-edd2-11dda10e81e8"
      },
      "source": [
        "ν = 230.538e9 # [Hz]\n",
        "A21 = 6.9e-7  # [s⁻¹]\n",
        "II = 79.5e3   # integrated intensity [K m s⁻¹]\n",
        "τ = 1e-3      # optical depth\n",
        "β = (1-np.exp(-τ))/τ # optical depth correction factor\n",
        "N2 = 8*np.pi*k*ν**2*II/(β*A21*h*c**3)\n",
        "print(f'N_J=2 = {N2:.1e} m⁻²')"
      ],
      "id": "Jlmmptltvn-_",
      "execution_count": null,
      "outputs": [
        {
          "output_type": "stream",
          "name": "stdout",
          "text": [
            "N_J=2 = 1.2e+20 m⁻²\n"
          ]
        }
      ]
    },
    {
      "cell_type": "markdown",
      "metadata": {
        "id": "uXx5CQNiQHNz"
      },
      "source": [
        "# Ch. 8"
      ],
      "id": "uXx5CQNiQHNz"
    },
    {
      "cell_type": "markdown",
      "metadata": {
        "tags": [],
        "id": "848191c4-3e2d-46f9-ac86-d74f4138a343"
      },
      "source": [
        "## 1.\n",
        "\n",
        "asdf"
      ],
      "id": "848191c4-3e2d-46f9-ac86-d74f4138a343"
    },
    {
      "cell_type": "markdown",
      "metadata": {
        "tags": [],
        "id": "bb53a9ac-f2d2-4af9-878e-9484eacfd1f7"
      },
      "source": [
        "## 2.\n",
        "\n",
        "asdf"
      ],
      "id": "bb53a9ac-f2d2-4af9-878e-9484eacfd1f7"
    }
  ]
}