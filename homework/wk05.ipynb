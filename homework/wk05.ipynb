{
  "nbformat": 4,
  "nbformat_minor": 5,
  "metadata": {
    "interpreter": {
      "hash": "64207f2bff3d87667c37533ce80ad965e00dc98d977e991ef4b71373a05ea95c"
    },
    "kernelspec": {
      "display_name": "Python 3",
      "language": "python",
      "name": "python3"
    },
    "language_info": {
      "codemirror_mode": {
        "name": "ipython",
        "version": 3
      },
      "file_extension": ".py",
      "mimetype": "text/x-python",
      "name": "python",
      "nbconvert_exporter": "python",
      "pygments_lexer": "ipython3",
      "version": "3.9.6"
    },
    "toc-autonumbering": false,
    "toc-showcode": false,
    "toc-showmarkdowntxt": false,
    "toc-showtags": false,
    "colab": {
      "name": "wk05.ipynb",
      "provenance": [],
      "include_colab_link": true
    }
  },
  "cells": [
    {
      "cell_type": "markdown",
      "metadata": {
        "id": "view-in-github",
        "colab_type": "text"
      },
      "source": [
        "<a href=\"https://colab.research.google.com/github/sabaronett/ast-747/blob/main/homework/wk05.ipynb\" target=\"_parent\"><img src=\"https://colab.research.google.com/assets/colab-badge.svg\" alt=\"Open In Colab\"/></a>"
      ]
    },
    {
      "cell_type": "markdown",
      "metadata": {
        "tags": [],
        "id": "b2916b11"
      },
      "source": [
        "# Homework Week 5: Ch. 6 Questions\n",
        "Jonathan P. Williams, _Introduction to the Interstellar Medium_"
      ],
      "id": "b2916b11"
    },
    {
      "cell_type": "markdown",
      "metadata": {
        "tags": [],
        "id": "1b2701f9"
      },
      "source": [
        "|Author| Stanley A. Baronett|\n",
        "|--|-------------------------------|\n",
        "|Created | 9/28/2021|"
      ],
      "id": "1b2701f9"
    },
    {
      "cell_type": "markdown",
      "metadata": {
        "id": "febab386"
      },
      "source": [
        "## Python Imports & Constants"
      ],
      "id": "febab386"
    },
    {
      "cell_type": "code",
      "metadata": {
        "tags": [],
        "id": "aa328c86"
      },
      "source": [
        "import math\n",
        "import matplotlib.pyplot as plt\n",
        "import numpy as np\n",
        "\n",
        "# Table A.1. Physical constants\n",
        "c   = 3e8      # [m s⁻¹]\n",
        "h   = 6.63e-34 # [J s]\n",
        "k   = 1.38e-23 # [J K⁻¹]\n",
        "SBc = 5.67e-8  # [W m⁻² K⁻⁴]\n",
        "G   = 6.67e-11 # [m³ kg⁻¹ s⁻²]\n",
        "mH  = 1.67e-27 # [kg]\n",
        "\n",
        "# Table A.2. Astronomical constants\n",
        "pc   = 3.09e16 # [m]\n",
        "au   = 1.50e11 # [m]\n",
        "Msun = 1.99e30 # [kg]\n",
        "Lsun = 3.83e26 # [W]\n",
        "Rsun = 6.96e8  # [m]\n",
        "\n",
        "# Miscellaneous constants and conversions\n",
        "yr = 3.15e7    # [s]\n",
        "Jy = 1e-26     # [W m⁻² Hz⁻¹]"
      ],
      "id": "aa328c86",
      "execution_count": 18,
      "outputs": []
    },
    {
      "cell_type": "markdown",
      "metadata": {
        "tags": [],
        "id": "ba98011a"
      },
      "source": [
        "## 1a.\n",
        "\n",
        "The Strömgren radius is\n",
        "\\begin{equation}\n",
        "R_\\textrm{S} \\simeq 70 \\left( \\frac{\\dot{N}_\\textrm{ionize}}{10^{49}\\,\\textrm{s}^{-1}} \\right)^{1/3} \\left( \\frac{T_\\textrm{e}}{10^4\\,\\textrm{K}} \\right)^{0.28} \\left( \\frac{n_\\textrm{e}}{10^6\\,\\textrm{m}^{-3}} \\right)^{-2/3}\\,\\textrm{pc}.\n",
        "\\tag{6.12}\n",
        "\\end{equation}\n",
        "Assuming a uniform, dust-free gas with density $n_\\textrm{e} = n_\\textrm{H} = 10^6\\,\\textrm{m}^{-3}$, and ionizing luminosity $\\dot{N} = 10^{51}\\,\\textrm{s}^{-1}$, we find\n",
        "\\begin{equation}\n",
        "R_\\textrm{S} \\approx 325\\,\\textrm{pc}.\n",
        "\\end{equation}"
      ],
      "id": "ba98011a"
    },
    {
      "cell_type": "code",
      "metadata": {
        "tags": [],
        "colab": {
          "base_uri": "https://localhost:8080/"
        },
        "id": "27eb530c",
        "outputId": "982ed5bf-212b-4711-c6a7-a212df9b33a6"
      },
      "source": [
        "N_ion = 1e51 # [s⁻¹]\n",
        "Rs = 70*(N_ion/1e49)**(1/3) # [pc]\n",
        "\n",
        "print('Rs = {:.0e} m = {:.0f} pc'.format(Rs*pc, Rs))"
      ],
      "id": "27eb530c",
      "execution_count": 19,
      "outputs": [
        {
          "output_type": "stream",
          "name": "stdout",
          "text": [
            "Rs = 1e+19 m = 325 pc\n"
          ]
        }
      ]
    },
    {
      "cell_type": "markdown",
      "metadata": {
        "id": "1a47393f-78a7-492d-a2d4-c7fcde7c24d5"
      },
      "source": [
        "## 1b.\n",
        "\n",
        "We can express a radially decreasing density gradient as\n",
        "\\begin{equation}\n",
        "n_\\textrm{e}(r) = n_\\textrm{e,0} \\left( \\frac{r}{r_0} \\right)^{-p}.\n",
        "\\tag{6.14}\n",
        "\\end{equation}\n",
        "Assume a dust-free gas with a density dependence $n_\\textrm{H} = 10^6(r/1\\,\\textrm{pc})^{-1}\\,\\textrm{m}^{-3}$, such that $n_\\textrm{e,0} = 10^6\\,\\textrm{m}^{-3}$, $r_0 = 1\\,\\textrm{pc}$, and $p = 1$, in Eq. 6.14, and a stellar radius $R_* \\sim 10^9\\,\\textrm{m}$.\n",
        "Thus, from Eq. 6.15, with $\\alpha_2(T_\\textrm{e}=10^4\\,\\textrm{K}) = 2.6\\times10^{-19}\\,\\textrm{m}^3\\,\\textrm{s}^{-1}$, the Strömgren radius becomes\n",
        "\\begin{align}\n",
        "\\dot{N}_\\textrm{ionize} &= \\frac{4\\pi\\alpha_2n_\\textrm{e,0}^2r_0^{2p}}{3-2p} \\left[ R_\\textrm{S}^{3-2p} - R_*^{3-2p} \\right] \\\\\n",
        "R_\\textrm{S} &= \\frac{\\dot{N}_\\textrm{ionize}}{4\\pi\\alpha_2n_\\textrm{e,0}^2r_0^{2}} + R_* \\approx 10\\,\\textrm{Gpc}.\n",
        "\\end{align}"
      ],
      "id": "1a47393f-78a7-492d-a2d4-c7fcde7c24d5"
    },
    {
      "cell_type": "code",
      "metadata": {
        "colab": {
          "base_uri": "https://localhost:8080/"
        },
        "id": "d0df476d-f8ee-4c7f-9007-b82f5b0535ec",
        "outputId": "3f043047-596b-49cd-d117-99b97becb2ba"
      },
      "source": [
        "ne0 = 1e6    # [m⁻³]\n",
        "α2 = 2.6e-19 # [m³ s⁻¹]\n",
        "r0 = 1*pc    # [m]\n",
        "Rstar = 1e9  # [m]\n",
        "Rs = N_ion/(4*np.pi*α2*ne0**2*r0**2) + Rstar\n",
        "\n",
        "print('Rs = {:.1e} m = {:.0f} Gpc'.format(Rs, Rs/1e6/pc))"
      ],
      "id": "d0df476d-f8ee-4c7f-9007-b82f5b0535ec",
      "execution_count": 20,
      "outputs": [
        {
          "output_type": "stream",
          "name": "stdout",
          "text": [
            "Rs = 3.2e+23 m = 10 Gpc\n"
          ]
        }
      ]
    },
    {
      "cell_type": "markdown",
      "metadata": {
        "tags": [],
        "id": "848191c4-3e2d-46f9-ac86-d74f4138a343"
      },
      "source": [
        "## 1c.\n",
        "\n",
        "The inclusion of dust gives the following relationship:\n",
        "\\begin{equation}\n",
        "\\left( \\tau_\\textrm{dS}'^2 - 2\\tau_\\textrm{dS}'+ 2 \\right)e^{\\tau_\\textrm{dS}'} = 2 + \\frac{\\tau_\\textrm{dS}^3}{3},\n",
        "\\tag{6.20}\n",
        "\\end{equation}\n",
        "where $\\tau_\\textrm{dS}'=x'\\tau_\\textrm{dS}$ is the dust optical depth from center to nubula edge, i.e., $x'=R_\\textrm{S}'\\big/R_\\textrm{S}$.\n",
        "Calculating the radius to edge of unity (i.e., $\\tau_\\textrm{dS}'=1$), we find\n",
        "\\begin{align}\n",
        "\\left( 1^2 - 2(1) + 2 \\right)e^1 &= 2 + \\frac{\\tau_\\textrm{dS}'^3}{3x'^3} \\\\\n",
        "3(e-2) &= \\left( \\frac{R_\\textrm{S}}{R_\\textrm{S}'} \\right)^3 \\\\\n",
        "R_\\textrm{S}' &= R_\\textrm{S}[3(e-2)]^{-1/3} \\approx 252\\,\\textrm{pc}\n",
        "\\end{align}"
      ],
      "id": "848191c4-3e2d-46f9-ac86-d74f4138a343"
    },
    {
      "cell_type": "code",
      "metadata": {
        "colab": {
          "base_uri": "https://localhost:8080/"
        },
        "id": "3804114a-3261-4834-9987-b6aa9eb16430",
        "outputId": "fe3d03d2-e59e-4bb5-9edc-ab2aefdfd860"
      },
      "source": [
        "Rs = 325 # [pc]\n",
        "Rsp = Rs*(3*(math.e - 2))**(-1/3)\n",
        "\n",
        "print('Rs\\' = {:.0f} pc'.format(Rsp))"
      ],
      "id": "3804114a-3261-4834-9987-b6aa9eb16430",
      "execution_count": 21,
      "outputs": [
        {
          "output_type": "stream",
          "name": "stdout",
          "text": [
            "Rs' = 252 pc\n"
          ]
        }
      ]
    },
    {
      "cell_type": "markdown",
      "metadata": {
        "tags": [],
        "id": "bb53a9ac-f2d2-4af9-878e-9484eacfd1f7"
      },
      "source": [
        "## 2a.\n",
        "\n",
        "From Eq. 6.22, the flux density in the optically thin regime, $\\tau_\\nu \\ll 1$, is (p. 72)\n",
        "\\begin{equation}\n",
        "F_\\nu = B_\\nu\\tau_\\nu\\Omega,\n",
        "\\tag{A}\n",
        "\\end{equation}\n",
        "where the solid angle is $\\Omega = \\pi R_\\textrm{S}^2\\big/d^2$, and the bremsstrahlung optical depth is\n",
        "\\begin{align}\n",
        "\\tau_\\nu &= 3.3\\times10^{-19}\\,\\textrm{m}^6\\textrm{pc}^{-1} \\left( \\frac{\\nu}{1\\,\\textrm{GHz}} \\right)^{-2.1} \\left( \\frac{T_\\textrm{e}}{10^4\\,\\textrm{K}} \\right)^{-1.35} \\int n_\\textrm{e}^2dl \\\\\n",
        "&= 1.1\\times10^{-35}\\,\\textrm{m}^6\\textrm{m}^{-1} \\left( \\frac{\\nu}{1\\,\\textrm{GHz}} \\right)^{-2.1} \\left( \\frac{T_\\textrm{e}}{10^4\\,\\textrm{K}} \\right)^{-1.35} \\int n_\\textrm{e}^2dl,\n",
        "\\tag{6.21}\n",
        "\\end{align}\n",
        "\"where the integral over the pathlength is known as the __emission measure__ (EM)... [whose] units are the odd mixture, $\\textrm{m}^{-6}\\textrm{pc}$\" (p. 71).\n",
        "Assuming a uniform density, and with the definition of the Strömgren radius,\n",
        "\\begin{equation}\n",
        "R_\\textrm{S} = \\left( \\frac{3\\dot{N}_\\textrm{ionize}}{4\\pi\\alpha_2n_\\textrm{e}^2} \\right)^{1/3},\n",
        "\\tag{6.11}\n",
        "\\end{equation}\n",
        "we find\n",
        "\\begin{align}\n",
        "F_\\nu &= R_\\textrm{S}^2 \\int_0^{2R_\\textrm{S}} n_\\textrm{e}^2dl \\\\\n",
        "&\\propto n_\\textrm{e}^2R_\\textrm{S}^3 \\\\\n",
        "&\\propto \\dot{N}_\\textrm{ionize}.\n",
        "\\end{align}"
      ],
      "id": "bb53a9ac-f2d2-4af9-878e-9484eacfd1f7"
    },
    {
      "cell_type": "markdown",
      "metadata": {
        "tags": [],
        "id": "44932c9f-191c-434b-8c41-4bb5ebad440e"
      },
      "source": [
        "## 2b.\n",
        "\n",
        "With $d=10^3\\,\\textrm{pc}$, $T=10^4\\,\\textrm{K}$, $\\nu=10\\,\\textrm{GHz}$, and $F_\\nu=10\\,\\textrm{Jy}$, from Eqs. A and 6.21,\n",
        "\\begin{align}\n",
        "F_\\nu &= B_\\nu \\left[ 1.1\\times10^{-35}\\,\\textrm{m}^6\\textrm{m}^{-1} \\left( \\frac{10\\,\\textrm{GHz}}{1\\,\\textrm{GHz}} \\right)^{-2.1} \\left( \\frac{10^4\\,\\textrm{K}}{10^4\\,\\textrm{K}} \\right)^{-1.35} \\int_0^{2R_\\textrm{S}} n_\\textrm{e}^2dl \\right] \\left( \\frac{\\pi R_\\textrm{S}^2}{d^2} \\right) \\\\\n",
        "&= B_\\nu\\left( 2.2\\times10^{-37.1} \\right) \\left( \\frac{\\pi n_\\textrm{e}^2 R_\\textrm{S}^3}{d^2} \\right) \\\\\n",
        "&= \\left( 1.7\\times10^{-37}\\right) \\frac{3\\pi n_\\textrm{e}^2\\dot{N}B_\\nu}{4\\pi\\alpha_2n_\\textrm{e}^2d^2} \\\\\n",
        "\\dot{N} &= \\frac{4\\alpha_2d^2F_\\nu}{3\\left( 5.2\\times10^{-21}\\right) B_\\nu \\left(10^4\\,\\textrm{K}\\right)} \\approx 10^{48.8}\\,\\textrm{s}^{-1}\n",
        "\\end{align}\n",
        "Referring to Table 6.1, this corresponds to an O6 star."
      ],
      "id": "44932c9f-191c-434b-8c41-4bb5ebad440e"
    },
    {
      "cell_type": "code",
      "metadata": {
        "colab": {
          "base_uri": "https://localhost:8080/"
        },
        "id": "baa0110a-b55d-49ae-a037-ddd740d6d313",
        "outputId": "bbd501b7-0ea9-48a5-cd78-143c47ba0128"
      },
      "source": [
        "B = lambda ν, T: 2*h*ν**3/c**2/(np.exp(h*ν/k/T)-1) # Planck function\n",
        "d = 1e3*pc # [m]\n",
        "T = 1e4    # [K]\n",
        "ν = 10e9   # [Hz]\n",
        "Fν = 100*Jy # [W m⁻² Hz⁻¹]\n",
        "Ndot = 4*α2*d**2*Fν/(3*1.7e-37*B(ν, T))\n",
        "\n",
        "print('     Ṅ = {:.0e} s⁻¹\\nlog(Ṅ) = {:.2f}'.format(Ndot, np.log10(Ndot)))"
      ],
      "id": "baa0110a-b55d-49ae-a037-ddd740d6d313",
      "execution_count": 36,
      "outputs": [
        {
          "output_type": "stream",
          "name": "stdout",
          "text": [
            "     Ṅ = 6e+48 s⁻¹\n",
            "log(Ṅ) = 48.80\n"
          ]
        }
      ]
    },
    {
      "cell_type": "markdown",
      "metadata": {
        "tags": [],
        "id": "71de66cc-212e-4356-9fa3-8a52deec66ba"
      },
      "source": [
        "## 2c.\n",
        "\n",
        "If $\\tau(10\\,\\textrm{GHz})=1$ at the turnover frequency, then from Eqs. 6.21 and 6.23, we find the emission measure (EM) as,\n",
        "\\begin{align}\n",
        "\\tau_\\nu &= 3.3\\times10^{-19} \\left( \\frac{10\\,\\textrm{GHz}}{1\\,\\textrm{GHz}} \\right)^{-2.1} \\left( \\frac{10^4\\,\\textrm{K}}{10^4\\,\\textrm{K}} \\right)^{-1.35} \\int_0^{2R_\\textrm{S}} n_\\textrm{e}^2dl \\\\\n",
        "1 &= \\left( 2.6\\times10^{-21} \\right)2R_\\textrm{S}n_\\textrm{e}^2 \\\\\n",
        "2n_\\textrm{e}^2R_\\textrm{S} &= \\textrm{EM} \\approx  3.8\\times10^{20}\\,\\textrm{m}^{-6}\\,\\textrm{pc}.\n",
        "\\end{align}\n",
        "Assuming $\\langle n_\\textrm{e}^2 \\rangle^{1/2} \\sim 10^{10}\\,\\textrm{m}^{-3}$ from comparisons with Fig. 6.5 given the turnover frequency, the radius is thus\n",
        "\\begin{equation}\n",
        "R_\\textrm{S} = \\frac{\\textrm{EM}}{2n_\\textrm{e}^2} \\approx 2\\,\\textrm{pc}.\n",
        "\\end{equation}\n",
        "This corresponds to an angular size of\n",
        "\\begin{equation}\n",
        "\\theta = \\frac{R_\\textrm{S}}{d} \\approx 2\\times10^{-3}\\,\\textrm{rad}.\n",
        "\\end{equation}\n",
        "Thus any telescope with an aperture diameter of\n",
        "\\begin{equation}\n",
        "D \\geq \\frac{\\lambda}{\\theta} \\approx 16\\,\\textrm{m}.\n",
        "\\end{equation}\n",
        "(e.g., VLA) can resolve itat the observing frequency ($c/3\\,\\textrm{cm} = 10\\,\\textrm{GHz}$)."
      ],
      "id": "71de66cc-212e-4356-9fa3-8a52deec66ba"
    },
    {
      "cell_type": "code",
      "metadata": {
        "colab": {
          "base_uri": "https://localhost:8080/"
        },
        "id": "74bcc3b1-92e4-4426-80e9-4a21215f1b79",
        "outputId": "fc723659-898f-4154-810c-525f590a043d"
      },
      "source": [
        "EM = 1/2.6e-21 # [m⁻⁶ pc]\n",
        "ne = 1e10      # [m⁻³]\n",
        "λ = c/ν\n",
        "Rs = EM/2/ne**2\n",
        "θ = Rs*pc/d\n",
        "D = λ/θ\n",
        "\n",
        "print('EM = {:.1e} m⁻⁶ pc'.format(EM))\n",
        "print('Rs = {:.0f} pc'.format(Rs))\n",
        "print(' θ = {:.0e} rad'.format(θ))\n",
        "print(' D = {:.0f} m'.format(D))"
      ],
      "id": "74bcc3b1-92e4-4426-80e9-4a21215f1b79",
      "execution_count": 40,
      "outputs": [
        {
          "output_type": "stream",
          "name": "stdout",
          "text": [
            "EM = 3.8e+20 m⁻⁶ pc\n",
            "Rs = 2 pc\n",
            " θ = 2e-03 rad\n",
            " D = 16 m\n"
          ]
        }
      ]
    },
    {
      "cell_type": "markdown",
      "metadata": {
        "tags": [],
        "id": "192d735f-886a-4cf1-91d4-c75c69736b7f"
      },
      "source": [
        "## 3.\n",
        "\n",
        "From Table 6.3, the wavelengths and emission rates for the doublet $\\textrm{OIII}$ lines are $\\lambda_{21} = 495.8\\,\\textrm{nm}$ and $A_{21} = 6.7\\times10^{-3}\\,\\textrm{s}^{-1}$ for the $^1\\textrm{D}_2-\\,^3\\textrm{P}_1$ transition;\n",
        "and $\\lambda_{21'} = 500.7\\,\\textrm{nm}$ and $A_{21'} = 2.0\\times10^{-2}\\,\\textrm{s}^{-1}$ for the $^1\\textrm{D}_2-\\,^3\\textrm{P}_2$ transition.\n",
        "The intensity of the line integrated over its frequency profile and direction (Eq. 3.13) is $J_{ij} = n_iA_{ij}h\\nu_{ij}$.\n",
        "Thus, their expected line ratio is\n",
        "\\begin{align}\n",
        "\\frac{J_{495.8}}{J_{500.7}} = \\frac{J_{21}}{J_{21'}} &= \\frac{n_2A_{21}h\\nu_{21}}{n_2A_{21'}h\\nu_{21'}} \\\\\n",
        "&= \\frac{A_{21}c\\big/\\lambda_{21}}{A_{21'}c\\big/\\lambda_{21'}} \\\\\n",
        "&= \\frac{A_{21}\\lambda_{21'}}{A_{21'}\\lambda_{21}} \\\\\n",
        "&\\approx 0.34\n",
        "\\end{align}"
      ],
      "id": "192d735f-886a-4cf1-91d4-c75c69736b7f"
    },
    {
      "cell_type": "code",
      "metadata": {
        "colab": {
          "base_uri": "https://localhost:8080/"
        },
        "id": "7f9a7758-12d1-46e5-8908-9dc7bba1e845",
        "outputId": "70b53b39-77e5-4d6d-efd6-13bf6647b1f8"
      },
      "source": [
        "λ21, λ21p = 495.8e-9, 500.7e-9 # [m]\n",
        "A21, A21p = 6.7e-3, 2.0e-2 # [s⁻¹]\n",
        "Jrat = A21*λ21p/A21p/λ21\n",
        "\n",
        "print('Line ratio = {:.2f}'.format(Jrat))"
      ],
      "id": "7f9a7758-12d1-46e5-8908-9dc7bba1e845",
      "execution_count": 26,
      "outputs": [
        {
          "output_type": "stream",
          "name": "stdout",
          "text": [
            "Line ratio = 0.34\n"
          ]
        }
      ]
    }
  ]
}