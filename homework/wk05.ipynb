{
 "cells": [
  {
   "cell_type": "markdown",
   "id": "b2916b11",
   "metadata": {
    "tags": []
   },
   "source": [
    "# Homework Week 5\n",
    "Jonathan P. Williams, _Introduction to the Interstellar Medium_"
   ]
  },
  {
   "cell_type": "markdown",
   "id": "1b2701f9",
   "metadata": {
    "tags": []
   },
   "source": [
    "|Author| Stanley A. Baronett|\n",
    "|--|-------------------------------|\n",
    "|Created | 9/28/2021|"
   ]
  },
  {
   "cell_type": "markdown",
   "id": "febab386",
   "metadata": {},
   "source": [
    "## Python Imports & Constants"
   ]
  },
  {
   "cell_type": "code",
   "execution_count": 2,
   "id": "aa328c86",
   "metadata": {
    "tags": []
   },
   "outputs": [],
   "source": [
    "import matplotlib.pyplot as plt\n",
    "import numpy as np\n",
    "\n",
    "# Table A.1. Physical constants\n",
    "c   = 3e8      # [m s⁻¹]\n",
    "h   = 6.63e-34 # [J s]\n",
    "k   = 1.38e-23 # [J K⁻¹]\n",
    "SBc = 5.67e-8  # [W m⁻² K⁻⁴]\n",
    "G   = 6.67e-11 # [m³ kg⁻¹ s⁻²]\n",
    "mH  = 1.67e-27 # [kg]\n",
    "\n",
    "# Table A.2. Astronomical constants\n",
    "pc   = 3.09e16 # [m]\n",
    "au   = 1.50e11 # [m]\n",
    "Msun = 1.99e30 # [kg]\n",
    "Lsun = 3.83e26 # [W]\n",
    "Rsun = 6.96e8  # [m]\n",
    "\n",
    "# Miscellaneous constants and conversions\n",
    "yr = 3.15e7    # [s]"
   ]
  },
  {
   "cell_type": "markdown",
   "id": "ba98011a",
   "metadata": {
    "tags": [],
    "toc-hr-collapsed": true
   },
   "source": [
    "## Question 6.1a\n",
    "\n",
    "The Strömgren radius is\n",
    "\\begin{equation}\n",
    "R_\\textrm{S} \\simeq 70 \\left( \\frac{\\dot{N}_\\textrm{ionize}}{10^{49}\\,\\textrm{s}^{-1}} \\right)^{1/3} \\left( \\frac{T_\\textrm{e}}{10^4\\,\\textrm{K}} \\right)^{0.28} \\left( \\frac{n_\\textrm{e}}{10^6\\,\\textrm{m}^{-3}} \\right)^{-2/3}\\,\\textrm{pc}.\n",
    "\\tag{6.12}\n",
    "\\end{equation}\n",
    "Assuming a uniform, dust-free gas with density $n_\\textrm{e} = n_\\textrm{H} = 10^6\\,\\textrm{m}^{-3}$, and ionizing luminosity $\\dot{N} = 10^{51}\\,\\textrm{s}^{-1}$, we find\n",
    "\\begin{equation}\n",
    "R_\\textrm{S} \\approx 325\\,\\textrm{pc}.\n",
    "\\end{equation}"
   ]
  },
  {
   "cell_type": "code",
   "execution_count": 1,
   "id": "27eb530c",
   "metadata": {
    "tags": []
   },
   "outputs": [
    {
     "name": "stdout",
     "output_type": "stream",
     "text": [
      "Rs = 325 pc\n"
     ]
    }
   ],
   "source": [
    "N_ion = 1e51 # [s⁻¹]\n",
    "Rs = 70*(N_ion/1e49)**(1/3) # [pc]\n",
    "\n",
    "print('Rs = {:.0f} pc'.format(Rs))"
   ]
  },
  {
   "cell_type": "markdown",
   "id": "1a47393f-78a7-492d-a2d4-c7fcde7c24d5",
   "metadata": {
    "tags": [],
    "toc-hr-collapsed": true
   },
   "source": [
    "## Question 6.1b\n",
    "\n",
    "We can express a radially decreasing density gradient as\n",
    "\\begin{equation}\n",
    "n_\\textrm{e}(r) = n_\\textrm{e,0} \\left( \\frac{r}{r_0} \\right)^{-p}.\n",
    "\\tag{6.14}\n",
    "\\end{equation}\n",
    "Assume a dust-free gas with a density dependence $n_\\textrm{H} = 10^6(r/1\\,\\textrm{pc})^{-1}\\,\\textrm{m}^{-3}$, such that $n_\\textrm{e,0} = 10^6\\,\\textrm{m}^{-3}$, $r_0 = 1\\,\\textrm{pc}$, and $p = 1$, in Eq. 6.14, and a stellar radius $R_* \\sim 10^9\\,\\textrm{m}$.\n",
    "Thus, from Eq. 6.15, with $\\alpha_2(T_\\textrm{e}=10^4\\,\\textrm{K}) = 2.6\\times10^{-19}\\,\\textrm{m}^3\\,\\textrm{s}^{-1}$, the Strömgren radius becomes\n",
    "\\begin{align}\n",
    "\\dot{N}_\\textrm{ionize} &= \\frac{4\\pi\\alpha_2n_\\textrm{e,0}^2r_0^{2p}}{3-2p} \\left[ R_\\textrm{S}^{3-2p} - R_*^{3-2p} \\right] \\\\\n",
    "R_\\textrm{S} &= \\frac{\\dot{N}_\\textrm{ionize}}{4\\pi\\alpha_2n_\\textrm{e,0}^2r_0^{2}} + R_* \\approx 10\\,\\textrm{Gpc}.\n",
    "\\end{align}"
   ]
  },
  {
   "cell_type": "code",
   "execution_count": 8,
   "id": "d0df476d-f8ee-4c7f-9007-b82f5b0535ec",
   "metadata": {},
   "outputs": [
    {
     "name": "stdout",
     "output_type": "stream",
     "text": [
      "Rs = 3.2e+23 m = 10 Gpc\n"
     ]
    }
   ],
   "source": [
    "ne0 = 1e6    # [m⁻³]\n",
    "α2 = 2.6e-19 # [m³ s⁻¹]\n",
    "r0 = 1*pc    # [m]\n",
    "Rstar = 1e9  # [m]\n",
    "Rs = N_ion/(4*np.pi*α2*ne0**2*r0**2) + Rstar\n",
    "\n",
    "print('Rs = {:.1e} m = {:.0f} Gpc'.format(Rs, Rs/1e6/pc))"
   ]
  },
  {
   "cell_type": "markdown",
   "id": "192d735f-886a-4cf1-91d4-c75c69736b7f",
   "metadata": {
    "tags": [],
    "toc-hr-collapsed": true
   },
   "source": [
    "## Question 6.3\n",
    "\n",
    "From Table 6.3, the wavelengths and emission rates for the doublet $\\textrm{OIII}$ lines are $\\lambda_{21} = 495.8\\,\\textrm{nm}$ and $A_{21} = 6.7\\times10^{-3}\\,\\textrm{s}^{-1}$ for the $^1\\textrm{D}_2-\\,^3\\textrm{P}_1$ transition;\n",
    "and $\\lambda_{21'} = 500.7\\,\\textrm{nm}$ and $A_{21'} = 2.0\\times10^{-2}\\,\\textrm{s}^{-1}$ for the $^1\\textrm{D}_2-\\,^3\\textrm{P}_2$ transition.\n",
    "The intensity of the line integrated over its frequency profile and direction (Eq. 3.13) is $J_{ij} = n_iA_{ij}h\\nu_{ij}$.\n",
    "Thus, their expected line ratio is\n",
    "\\begin{align}\n",
    "\\frac{J_{495.8}}{J_{500.7}} = \\frac{J_{21}}{J_{21'}} &= \\frac{n_2A_{21}h\\nu_{21}}{n_2A_{21'}h\\nu_{21'}} \\\\\n",
    "&= \\frac{A_{21}c\\big/\\lambda_{21}}{A_{21'}c\\big/\\lambda_{21'}} \\\\\n",
    "&= \\frac{A_{21}\\lambda_{21'}}{A_{21'}\\lambda_{21}} \\\\\n",
    "&\\approx 0.34\n",
    "\\end{align}"
   ]
  },
  {
   "cell_type": "code",
   "execution_count": 11,
   "id": "7f9a7758-12d1-46e5-8908-9dc7bba1e845",
   "metadata": {},
   "outputs": [
    {
     "name": "stdout",
     "output_type": "stream",
     "text": [
      "Line ratio = 0.34\n"
     ]
    }
   ],
   "source": [
    "λ21, λ21p = 495.8e-9, 500.7e-9 # [m]\n",
    "A21, A21p = 6.7e-3, 2.0e-2 # [s⁻¹]\n",
    "Jrat = A21*λ21p/A21p/λ21\n",
    "\n",
    "print('Line ratio = {:.2f}'.format(Jrat))"
   ]
  }
 ],
 "metadata": {
  "interpreter": {
   "hash": "64207f2bff3d87667c37533ce80ad965e00dc98d977e991ef4b71373a05ea95c"
  },
  "kernelspec": {
   "display_name": "Python 3",
   "language": "python",
   "name": "python3"
  },
  "language_info": {
   "codemirror_mode": {
    "name": "ipython",
    "version": 3
   },
   "file_extension": ".py",
   "mimetype": "text/x-python",
   "name": "python",
   "nbconvert_exporter": "python",
   "pygments_lexer": "ipython3",
   "version": "3.9.6"
  },
  "toc-autonumbering": false,
  "toc-showcode": false,
  "toc-showmarkdowntxt": false,
  "toc-showtags": false
 },
 "nbformat": 4,
 "nbformat_minor": 5
}
